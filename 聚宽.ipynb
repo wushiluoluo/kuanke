{
 "cells": [
  {
   "cell_type": "code",
   "execution_count": 4,
   "id": "def4105b-a448-40c6-9fad-1469b7efc546",
   "metadata": {},
   "outputs": [],
   "source": [
    "import numpy as np"
   ]
  },
  {
   "cell_type": "code",
   "execution_count": 5,
   "id": "76fe1ded-0295-4ef0-a473-be563e5c8e5d",
   "metadata": {},
   "outputs": [
    {
     "data": {
      "text/plain": [
       "array([11, 25, 36, 89])"
      ]
     },
     "execution_count": 5,
     "metadata": {},
     "output_type": "execute_result"
    }
   ],
   "source": [
    "mya=np.array([11,25,36,89])\n",
    "mys"
   ]
  },
  {
   "cell_type": "code",
   "execution_count": 7,
   "id": "88c90368-dad9-4973-8bea-9720f08dae19",
   "metadata": {},
   "outputs": [
    {
     "name": "stdout",
     "output_type": "stream",
     "text": [
      "(11+0j)\n",
      "(25+0j)\n",
      "(36+0j)\n",
      "(89+0j)\n"
     ]
    }
   ],
   "source": [
    "myb=np.array([11,25,36,89],dtype=complex)\n",
    "for i in myb:\n",
    "    print(i)"
   ]
  },
  {
   "cell_type": "code",
   "execution_count": 11,
   "id": "0366b586-a82a-485c-9608-e6389e6adc89",
   "metadata": {},
   "outputs": [
    {
     "name": "stdout",
     "output_type": "stream",
     "text": [
      "[[11 25 36 89]\n",
      " [20 50 60 90]]\n"
     ]
    },
    {
     "data": {
      "text/plain": [
       "np.int64(60)"
      ]
     },
     "execution_count": 11,
     "metadata": {},
     "output_type": "execute_result"
    }
   ],
   "source": [
    "myc=np.array([[11,25,36,89],[20,50,60,90]])\n",
    "print(myc)\n",
    "myc[1][2]"
   ]
  },
  {
   "cell_type": "code",
   "execution_count": 14,
   "id": "eb02167e-2ccf-4bb4-8585-233bab62aa63",
   "metadata": {},
   "outputs": [
    {
     "name": "stdout",
     "output_type": "stream",
     "text": [
      "[0. 0. 0. 0. 0. 0.]\n",
      "[[0 0 0]\n",
      " [0 0 0]\n",
      " [0 0 0]]\n",
      "[[1. 1. 1. 1.]\n",
      " [1. 1. 1. 1.]\n",
      " [1. 1. 1. 1.]\n",
      " [1. 1. 1. 1.]\n",
      " [1. 1. 1. 1.]\n",
      " [1. 1. 1. 1.]]\n",
      "[[5.43e-323 1.24e-322 1.78e-322 4.40e-322]\n",
      " [9.88e-323 2.47e-322 2.96e-322 4.45e-322]]\n"
     ]
    }
   ],
   "source": [
    "myd=np.zeros(6)\n",
    "mye=np.zeros((3,3),dtype=int)\n",
    "myf=np.ones(((6,4)))\n",
    "myg=np.empty((2,4))\n",
    "print(myd)\n",
    "print(mye)\n",
    "print(myf)\n",
    "print(myg)\n"
   ]
  },
  {
   "cell_type": "code",
   "execution_count": 21,
   "id": "22803a5f-c829-4f25-850b-0948e25e566b",
   "metadata": {},
   "outputs": [
    {
     "name": "stdout",
     "output_type": "stream",
     "text": [
      "[ 1  3  5  7  9 11 13 15 17 19 21 23 25 27 29 31 33 35 37 39 41 43 45 47\n",
      " 49 51 53 55 57 59 61 63 65 67 69 71 73 75 77 79 81 83 85 87 89 91 93 95\n",
      " 97 99]\n",
      "[0.         0.88888889 1.77777778 2.66666667 3.55555556 4.44444444\n",
      " 5.33333333 6.22222222 7.11111111 8.        ]\n"
     ]
    }
   ],
   "source": [
    "np1=np.arange(1,100,2)\n",
    "np2=np.linspace(0,8,10)\n",
    "print(np1)\n",
    "print(np2)"
   ]
  },
  {
   "cell_type": "code",
   "execution_count": 35,
   "id": "718d3036-24e6-4aa5-8241-1239e3ee1aa3",
   "metadata": {},
   "outputs": [
    {
     "name": "stdout",
     "output_type": "stream",
     "text": [
      "[[  8.    6.    5.2]\n",
      " [ 72.  -12.    3.9]]\n",
      "[8.  6.  5.2]\n",
      "6.0\n",
      "3.9\n",
      "[5.2 3.9]\n",
      "[ 72.  -12.    3.9]\n"
     ]
    }
   ],
   "source": [
    "np3=np.array([[8,6,5.2],[72,-12,3.9]])\n",
    "print(np3)\n",
    "print(np3[0])\n",
    "print(np3[0,1])\n",
    "print(np3[1,2])\n",
    "print(np3[:,2])#索引中的的形式是[*,*]的形式，：的意思是代表了全部，比如[：，2]是第三列，[1,:]是代表前两行\n",
    "print(np3[1,:])"
   ]
  },
  {
   "cell_type": "code",
   "execution_count": 53,
   "id": "56d2698e-7a87-44b5-9014-d3675ab38d6c",
   "metadata": {},
   "outputs": [
    {
     "name": "stdout",
     "output_type": "stream",
     "text": [
      "[ 7 14 21]\n",
      "[3 6 9]\n",
      "[10 40 90]\n",
      "[2.5 2.5 2.5]\n",
      "[ 25 100 225]\n",
      "140\n",
      "[ True  True  True]\n",
      "15\n",
      "5\n",
      "30\n",
      "42\n"
     ]
    }
   ],
   "source": [
    "np4=np.array([5,10,15])\n",
    "np5=np.array([2,4,6])\n",
    "print(np4+np5)\n",
    "print(np4-np5)\n",
    "print(np4*np5)\n",
    "print(np4/np5)\n",
    "print(np4**2)\n",
    "print(np.dot(np4,np5))\n",
    "print(np4>np5)\n",
    "print(np4.max())\n",
    "print(np4.min())\n",
    "print(np4.sum())\n",
    "print(np4.sum()+np5.sum())\n"
   ]
  },
  {
   "cell_type": "code",
   "execution_count": 60,
   "id": "b4955237-befb-436e-bd54-b5c7dd2da415",
   "metadata": {},
   "outputs": [
    {
     "name": "stdout",
     "output_type": "stream",
     "text": [
      "[[2 4 6]\n",
      " [1 3 5]]\n",
      "[[2 1]\n",
      " [4 3]\n",
      " [6 5]]\n",
      "[[56 44]\n",
      " [44 35]]\n",
      "[[ 1.08333333 -1.33333333]\n",
      " [ 0.33333333 -0.33333333]\n",
      " [-0.41666667  0.66666667]]\n",
      "[[ 1.00000000e+00 -1.99840144e-15]\n",
      " [-3.88578059e-16  1.00000000e+00]]\n"
     ]
    }
   ],
   "source": [
    "np5=np.matrix([[2,4,6],[1,3,5]])\n",
    "print(np5)\n",
    "print(np5.T)#矩阵的转置\n",
    "print(np5*np5.T)#转置矩阵求积\n",
    "print(np5.I)#矩阵的逆\n",
    "print(np5*np5.I)"
   ]
  },
  {
   "cell_type": "raw",
   "id": "59842084-18f5-4574-ac3e-408883b52f79",
   "metadata": {},
   "source": []
  },
  {
   "cell_type": "code",
   "execution_count": null,
   "id": "6feaac75-c03c-4bd5-88df-b0fc8ba4b3e3",
   "metadata": {},
   "outputs": [],
   "source": []
  }
 ],
 "metadata": {
  "kernelspec": {
   "display_name": "Python 3 (ipykernel)",
   "language": "python",
   "name": "python3"
  },
  "language_info": {
   "codemirror_mode": {
    "name": "ipython",
    "version": 3
   },
   "file_extension": ".py",
   "mimetype": "text/x-python",
   "name": "python",
   "nbconvert_exporter": "python",
   "pygments_lexer": "ipython3",
   "version": "3.9.5"
  }
 },
 "nbformat": 4,
 "nbformat_minor": 5
}
